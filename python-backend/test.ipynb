{
 "cells": [
  {
   "cell_type": "code",
   "execution_count": null,
   "metadata": {},
   "outputs": [],
   "source": [
    "import streamlit as st\n",
    "import win32com.client\n",
    "import pythoncom\n",
    "import os\n",
    "from mistralai.client import MistralClient\n",
    "from mistralai.models.chat_completion import ChatMessage\n",
    "from dotenv import load_dotenv\n",
    "\n",
    "load_dotenv()\n",
    "st.set_page_config(layout=\"wide\")\n",
    "\n",
    "# Function to split text into chunks\n",
    "def split_text_into_chunks(text, max_words=3000, overlap_words=0):\n",
    "    words = text.split() \n",
    "    chunks = []\n",
    "    for i in range(0, len(words), max_words-overlap_words):\n",
    "        chunks.append(' '.join(words[i:i + max_words]))\n",
    "    return chunks\n",
    "\n",
    "# Function to get key points from text using the Mistral API\n",
    "def get_key_points(news_text):\n",
    "    api_key = os.environ[\"MISTRAL_API_KEY\"]\n",
    "    model = \"mistral-tiny\"\n",
    "    client = MistralClient(api_key=api_key)\n",
    "\n",
    "    # Splitting the text into chunks\n",
    "    text_chunks = split_text_into_chunks(news_text)\n",
    "    combined_key_points = []\n",
    "\n",
    "    # Extracting key points for each chunk\n",
    "    for chunk in text_chunks:\n",
    "        chat_response = client.chat(\n",
    "            model=model,\n",
    "            messages=[ChatMessage(role=\"user\", content=f\"highlight the key points of the following {chunk} \")],\n",
    "        )\n",
    "        key_points = chat_response.choices[0].message.content.split('\\n')\n",
    "        combined_key_points.extend(key_points)\n",
    "\n",
    "    # Optional: Re-process combined points for coherence (This step may require a more complex approach)\n",
    "\n",
    "    return combined_key_points\n",
    "\n",
    "\n",
    "# Streamlit app title\n",
    "\n",
    "# User inputs\n",
    "email_address = \"outlook email address\"\n",
    "# sender_contains = st.text_input(\"Enter Sender's Email Address or Name:\")\n",
    "# Button to trigger email search and key points extraction\n",
    "subject_keywords_input =\"book, car\"  # User inputs keywords\n",
    "subject_keywords = [keyword.strip() for keyword in subject_keywords_input.split(',')]  # Handle special characters\n",
    "number_of_emails = 3\n",
    "\n",
    "# Function to traverse all folders and subfolders\n",
    "# def traverse_folders(folder, sender_contains, collected_emails):\n",
    "#     messages = folder.Items\n",
    "#     for message in messages:\n",
    "#         try:\n",
    "#             sender_email = message.SenderEmailAddress.lower()\n",
    "#             sender_name = message.SenderName.lower()\n",
    "#             if sender_contains.lower() in sender_email or sender_contains.lower() in sender_name:\n",
    "#                 collected_emails.append(message)\n",
    "#         except Exception as e:\n",
    "#             continue  # Skip any errors and continue with the next message\n",
    "\n",
    "#     for subfolder in folder.Folders:\n",
    "#         traverse_folders(subfolder, sender_contains, collected_emails)\n",
    "\n",
    "# Function to recursively search through folders\n",
    "def search_folder(folder, subject_keywords, collected_emails, number_of_emails):\n",
    "    messages = folder.Items\n",
    "    messages.Sort(\"[ReceivedTime]\", True)  # Sort by received time in descending order\n",
    "\n",
    "    for message in messages:\n",
    "        if len(collected_emails) >= number_of_emails:\n",
    "            break  # Stop if we have collected enough emails\n",
    "\n",
    "        try:\n",
    "            subject = message.Subject.lower()\n",
    "            if any(keyword.lower() in subject for keyword in subject_keywords):\n",
    "                if message not in collected_emails:  # Ensure uniqueness\n",
    "                    collected_emails.append(message)\n",
    "        except Exception as e:\n",
    "            continue  # Skip any errors\n",
    "\n",
    "    for subfolder in folder.Folders:\n",
    "        search_folder(subfolder, subject_keywords, collected_emails, number_of_emails)\n",
    "\n",
    "# Function to get the Inbox folder and search for emails\n",
    "def find_emails_and_extract_key_points(account_name, subject_keywords, number_of_emails):\n",
    "    pythoncom.CoInitialize()  # Initialize the COM library\n",
    "    outlook = win32com.client.Dispatch(\"Outlook.Application\").GetNamespace(\"MAPI\")\n",
    "    accounts = outlook.Folders\n",
    "\n",
    "    inbox = None\n",
    "    for account in accounts:\n",
    "        if account.Name.lower() == account_name.lower():\n",
    "            inbox = account.Folders['Inbox']\n",
    "            break\n",
    "\n",
    "    if inbox is None:\n",
    "        st.error(\"Inbox folder not found for email address: \" + account_name)\n",
    "        return\n",
    "\n",
    "    collected_emails = []\n",
    "    search_folder(inbox, subject_keywords, collected_emails, number_of_emails)\n",
    "\n",
    "    # Extract key points from the collected emails\n",
    "    for message in collected_emails:\n",
    "        try:\n",
    "            key_points = get_key_points(message.Body)\n",
    "            subject = message.Subject\n",
    "            st.markdown(f\"**Email from {message.SenderName} ({message.SenderEmailAddress}) - Subject: {subject}**\")\n",
    "            for point in key_points:\n",
    "                updated_point = point.replace(\"$\", \"\\\\$\")\n",
    "                st.markdown(f\"<p style='font-family:Century Gothic; font-size:15px; color:black;'>{updated_point}</p>\", unsafe_allow_html=True)\n",
    "        except Exception as e:\n",
    "            st.error(\"Error: \" + str(e))\n",
    "\n",
    "\n",
    "if st.button(\"Extract Key Points from Latest Emails\"):\n",
    "    find_emails_and_extract_key_points(email_address, subject_keywords, number_of_emails)"
   ]
  },
  {
   "cell_type": "code",
   "execution_count": null,
   "metadata": {},
   "outputs": [],
   "source": [
    "import streamlit as st\n",
    "import win32com.client\n",
    "import pythoncom\n",
    "import os\n",
    "from mistralai.client import MistralClient\n",
    "from mistralai.models.chat_completion import ChatMessage\n",
    "from dotenv import load_dotenv\n",
    "\n",
    "load_dotenv()  \n",
    "# api_key = os.environ[\"MISTRAL_API_KEY\"]\n",
    "st.set_page_config(layout=\"wide\")\n",
    "\n",
    "# Function to get key points from text using the Mistral API\n",
    "def get_key_points(news_text):\n",
    "    api_key = os.environ[\"MISTRAL_API_KEY\"]\n",
    "    model = \"mistral-tiny\"\n",
    "\n",
    "    client = MistralClient(api_key=api_key)\n",
    "\n",
    "    chat_response = client.chat(\n",
    "        model=model,\n",
    "        messages=[ChatMessage(role=\"user\", content=f\"highlight the key points of the following {news_text} \")],\n",
    "    )\n",
    "\n",
    "    # Extract bullet points from the response\n",
    "    key_points = chat_response.choices[0].message.content.split('\\n')\n",
    "    return key_points\n",
    "\n",
    "# Streamlit app\n",
    "st.title(\"Outlook Email Key Points Extractor\")\n",
    "\n",
    "# User inputs\n",
    "email_address = st.text_input(\"Enter Your Email Address:\")\n",
    "subfolder_name = st.text_input(\"Enter the Subfolder Name inside Inbox:\")\n",
    "subject_contains = st.text_input(\"Enter Text Contained in the Email Subject:\")\n",
    "\n",
    "# Function to get the specified subfolder inside Inbox\n",
    "def get_subfolder(email_address, subfolder_name):\n",
    "    pythoncom.CoInitialize()  # Initialize the COM library\n",
    "    outlook = win32com.client.Dispatch(\"Outlook.Application\").GetNamespace(\"MAPI\")\n",
    "    accounts = outlook.Folders\n",
    "\n",
    "    for account in accounts:\n",
    "        if account.Name.lower() == email_address.lower():\n",
    "            inbox = account.Folders['Inbox']\n",
    "            try:\n",
    "                return inbox.Folders[subfolder_name]\n",
    "            except:\n",
    "                st.error(f\"Subfolder '{subfolder_name}' not found inside Inbox.\")\n",
    "                return None\n",
    "    return None\n",
    "\n",
    "# Function to find the email and extract key points\n",
    "def find_email_and_extract_key_points(folder, subject_contains):\n",
    "    # Filter emails by subject contains\n",
    "    messages = folder.Items\n",
    "    filter_criteria = f\"@SQL=urn:schemas:httpmail:subject LIKE '%{subject_contains}%'\"\n",
    "    filtered_messages = messages.Restrict(filter_criteria)\n",
    "\n",
    "    for message in filtered_messages:\n",
    "        try:\n",
    "            # Extract key points\n",
    "            key_points = get_key_points(message.Body)\n",
    "\n",
    "            st.markdown(f\"**Key Points of the email:**\")\n",
    "            for point in key_points:\n",
    "                updated_point = point.replace(\"$\", \"\\\\$\")\n",
    "                # st.markdown(f\"{updated_point}\")\n",
    "                st.markdown(f\"<p style='font-family:Century Gothic; font-size:15px; color:black;'>{updated_point}</p>\", unsafe_allow_html=True)\n",
    "            return\n",
    "        except Exception as e:\n",
    "            st.error(\"Error:\" + str(e))\n",
    "            return\n",
    "    st.error(\"No email found with subject containing: \" + subject_contains)\n",
    "\n",
    "# Button to trigger email search and key points extraction\n",
    "if st.button(\"Extract Key Points from Email\"):\n",
    "    subfolder = get_subfolder(email_address, subfolder_name)\n",
    "    if subfolder:\n",
    "        find_email_and_extract_key_points(subfolder, subject_contains)"
   ]
  },
  {
   "cell_type": "code",
   "execution_count": 1,
   "metadata": {},
   "outputs": [
    {
     "ename": "ModuleNotFoundError",
     "evalue": "No module named 'pythoncom'",
     "output_type": "error",
     "traceback": [
      "\u001b[0;31m---------------------------------------------------------------------------\u001b[0m",
      "\u001b[0;31mModuleNotFoundError\u001b[0m                       Traceback (most recent call last)",
      "Cell \u001b[0;32mIn[1], line 1\u001b[0m\n\u001b[0;32m----> 1\u001b[0m \u001b[38;5;28;01mimport\u001b[39;00m \u001b[38;5;21;01mpythoncom\u001b[39;00m\n",
      "\u001b[0;31mModuleNotFoundError\u001b[0m: No module named 'pythoncom'"
     ]
    }
   ],
   "source": [
    "import pythoncom"
   ]
  },
  {
   "cell_type": "code",
   "execution_count": 30,
   "metadata": {},
   "outputs": [],
   "source": [
    "import imaplib\n",
    "\n",
    "OUTLOOK_IMAP_SERVER = 'imap-mail.outlook.com'\n",
    "OUTLOOK_IMAP_PORT = 993\n",
    "\n",
    "# Replace these with your email and password\n",
    "email = 'gopal.goyal02@outlook.com'\n",
    "password = 'Gopalgoyal@2002'\n",
    "\n",
    "mail = imaplib.IMAP4_SSL(OUTLOOK_IMAP_SERVER, OUTLOOK_IMAP_PORT)\n",
    "d=mail.login(email, password)\n",
    "data=mail.list() # Lists all mailboxes\n"
   ]
  },
  {
   "cell_type": "code",
   "execution_count": 3,
   "metadata": {},
   "outputs": [],
   "source": [
    "OUTLOOK_IMAP_SERVER = 'imap-mail.outlook.com'\n",
    "import imaplib \n",
    "import email \n",
    "def search_emails(imap_server, email_address, password, sender_contains, number_of_emails):\n",
    "    mail = imaplib.IMAP4_SSL(imap_server)\n",
    "    mail.login(email_address, password)\n",
    "    mail.select('inbox') # Select the Inbox \n",
    "    collected_emails = [] # Search for emails from the specific sender \n",
    "    status, message_numbers = mail.search(None, '(FROM \"{}\")'.format(sender_contains)) \n",
    "    # print(status,message_numbers)\n",
    "    if status == 'OK':\n",
    "        for num in reversed(message_numbers[0].split()): # Iterate in reverse to get the latest emails first \n",
    "            if len(collected_emails) >= number_of_emails:\n",
    "                break # Stop if we have collected enough emails \n",
    "            typ, data = mail.fetch(num, '(RFC822)') \n",
    "            # print(data)\n",
    "            for response_part in data: \n",
    "                if isinstance(response_part, tuple): \n",
    "                    msg = email.message_from_bytes(response_part[1]) \n",
    "                    email_subject = decode_header(msg[\"subject\"])[0][0] \n",
    "                    if isinstance(email_subject, bytes):\n",
    "                        email_subject = email_subject.decode() \n",
    "                    email_from = decode_header(msg[\"from\"])[0][0] \n",
    "                    if isinstance(email_from, bytes): \n",
    "                        email_from = email_from.decode() \n",
    "                    msg_=(msg.get_payload()[0]).__dict__['_payload']\n",
    "                    collected_emails.append((email_subject, email_from,msg_ ))\n",
    "                # print(msg)\n",
    "    return collected_emails "
   ]
  },
  {
   "cell_type": "code",
   "execution_count": 4,
   "metadata": {},
   "outputs": [
    {
     "ename": "error",
     "evalue": "b'LOGIN failed. Account is blocked. Login to your account via a web browser to verify your identity.'",
     "output_type": "error",
     "traceback": [
      "\u001b[0;31m---------------------------------------------------------------------------\u001b[0m",
      "\u001b[0;31merror\u001b[0m                                     Traceback (most recent call last)",
      "Cell \u001b[0;32mIn[4], line 1\u001b[0m\n\u001b[0;32m----> 1\u001b[0m \u001b[43msearch_emails\u001b[49m\u001b[43m(\u001b[49m\u001b[38;5;124;43m'\u001b[39;49m\u001b[38;5;124;43mimap-mail.outlook.com\u001b[39;49m\u001b[38;5;124;43m'\u001b[39;49m\u001b[43m,\u001b[49m\u001b[38;5;124;43m\"\u001b[39;49m\u001b[38;5;124;43mshibin.xie@outlook.com\u001b[39;49m\u001b[38;5;124;43m\"\u001b[39;49m\u001b[43m,\u001b[49m\u001b[38;5;124;43m\"\u001b[39;49m\u001b[38;5;124;43mTsla$7012\u001b[39;49m\u001b[38;5;124;43m\"\u001b[39;49m\u001b[43m,\u001b[49m\u001b[43m \u001b[49m\u001b[38;5;124;43m\"\u001b[39;49m\u001b[38;5;124;43mtmurphy@key.com\u001b[39;49m\u001b[38;5;124;43m\"\u001b[39;49m\u001b[43m \u001b[49m\u001b[43m,\u001b[49m\u001b[38;5;241;43m1\u001b[39;49m\u001b[43m)\u001b[49m\n",
      "Cell \u001b[0;32mIn[3], line 6\u001b[0m, in \u001b[0;36msearch_emails\u001b[0;34m(imap_server, email_address, password, sender_contains, number_of_emails)\u001b[0m\n\u001b[1;32m      4\u001b[0m \u001b[38;5;28;01mdef\u001b[39;00m \u001b[38;5;21msearch_emails\u001b[39m(imap_server, email_address, password, sender_contains, number_of_emails):\n\u001b[1;32m      5\u001b[0m     mail \u001b[38;5;241m=\u001b[39m imaplib\u001b[38;5;241m.\u001b[39mIMAP4_SSL(imap_server)\n\u001b[0;32m----> 6\u001b[0m     \u001b[43mmail\u001b[49m\u001b[38;5;241;43m.\u001b[39;49m\u001b[43mlogin\u001b[49m\u001b[43m(\u001b[49m\u001b[43memail_address\u001b[49m\u001b[43m,\u001b[49m\u001b[43m \u001b[49m\u001b[43mpassword\u001b[49m\u001b[43m)\u001b[49m\n\u001b[1;32m      7\u001b[0m     mail\u001b[38;5;241m.\u001b[39mselect(\u001b[38;5;124m'\u001b[39m\u001b[38;5;124minbox\u001b[39m\u001b[38;5;124m'\u001b[39m) \u001b[38;5;66;03m# Select the Inbox \u001b[39;00m\n\u001b[1;32m      8\u001b[0m     collected_emails \u001b[38;5;241m=\u001b[39m [] \u001b[38;5;66;03m# Search for emails from the specific sender \u001b[39;00m\n",
      "File \u001b[0;32m~/opt/anaconda3/envs/free/lib/python3.8/imaplib.py:603\u001b[0m, in \u001b[0;36mIMAP4.login\u001b[0;34m(self, user, password)\u001b[0m\n\u001b[1;32m    601\u001b[0m typ, dat \u001b[38;5;241m=\u001b[39m \u001b[38;5;28mself\u001b[39m\u001b[38;5;241m.\u001b[39m_simple_command(\u001b[38;5;124m'\u001b[39m\u001b[38;5;124mLOGIN\u001b[39m\u001b[38;5;124m'\u001b[39m, user, \u001b[38;5;28mself\u001b[39m\u001b[38;5;241m.\u001b[39m_quote(password))\n\u001b[1;32m    602\u001b[0m \u001b[38;5;28;01mif\u001b[39;00m typ \u001b[38;5;241m!=\u001b[39m \u001b[38;5;124m'\u001b[39m\u001b[38;5;124mOK\u001b[39m\u001b[38;5;124m'\u001b[39m:\n\u001b[0;32m--> 603\u001b[0m     \u001b[38;5;28;01mraise\u001b[39;00m \u001b[38;5;28mself\u001b[39m\u001b[38;5;241m.\u001b[39merror(dat[\u001b[38;5;241m-\u001b[39m\u001b[38;5;241m1\u001b[39m])\n\u001b[1;32m    604\u001b[0m \u001b[38;5;28mself\u001b[39m\u001b[38;5;241m.\u001b[39mstate \u001b[38;5;241m=\u001b[39m \u001b[38;5;124m'\u001b[39m\u001b[38;5;124mAUTH\u001b[39m\u001b[38;5;124m'\u001b[39m\n\u001b[1;32m    605\u001b[0m \u001b[38;5;28;01mreturn\u001b[39;00m typ, dat\n",
      "\u001b[0;31merror\u001b[0m: b'LOGIN failed. Account is blocked. Login to your account via a web browser to verify your identity.'"
     ]
    }
   ],
   "source": [
    "search_emails('imap-mail.outlook.com',\"shibin.xie@outlook.com\",\"Tsla$7012\", \"tmurphy@key.com\" ,1)"
   ]
  },
  {
   "cell_type": "code",
   "execution_count": 76,
   "metadata": {},
   "outputs": [
    {
     "name": "stdout",
     "output_type": "stream",
     "text": [
      "Collecting decode\n",
      "  Downloading decode-1.0.0-py3-none-any.whl.metadata (2.0 kB)\n",
      "Collecting astropy<6.0,>=5.2 (from decode)\n",
      "  Downloading astropy-5.2.2-cp38-cp38-macosx_10_9_x86_64.whl (7.0 MB)\n",
      "\u001b[2K     \u001b[90m━━━━━━━━━━━━━━━━━━━━━━━━━━━━━━━━━━━━━━━━\u001b[0m \u001b[32m7.0/7.0 MB\u001b[0m \u001b[31m3.5 MB/s\u001b[0m eta \u001b[36m0:00:00\u001b[0m00:01\u001b[0m00:01\u001b[0mm\n",
      "\u001b[?25hRequirement already satisfied: matplotlib<4.0,>=3.6 in /Users/gopalgoyal/opt/anaconda3/envs/free/lib/python3.8/site-packages (from decode) (3.7.4)\n",
      "Collecting morecopy<0.4,>=0.3 (from decode)\n",
      "  Downloading morecopy-0.3.0-py3-none-any.whl.metadata (3.0 kB)\n",
      "Collecting netcdf4<2.0,>=1.6 (from decode)\n",
      "  Downloading netCDF4-1.6.5-cp38-cp38-macosx_10_9_x86_64.whl.metadata (1.8 kB)\n",
      "Requirement already satisfied: numpy<2.0,>=1.22 in /Users/gopalgoyal/opt/anaconda3/envs/free/lib/python3.8/site-packages (from decode) (1.24.4)\n",
      "Requirement already satisfied: scikit-learn<2.0,>=1.2 in /Users/gopalgoyal/opt/anaconda3/envs/free/lib/python3.8/site-packages (from decode) (1.3.2)\n",
      "Requirement already satisfied: scipy<2.0,>=1.9 in /Users/gopalgoyal/opt/anaconda3/envs/free/lib/python3.8/site-packages (from decode) (1.10.1)\n",
      "Collecting tomli<3.0,>=2.0 (from decode)\n",
      "  Using cached tomli-2.0.1-py3-none-any.whl (12 kB)\n",
      "Requirement already satisfied: tqdm<5.0,>=4.65 in /Users/gopalgoyal/opt/anaconda3/envs/free/lib/python3.8/site-packages (from decode) (4.66.1)\n",
      "Collecting xarray<2023.0,>=2022.3 (from decode)\n",
      "  Downloading xarray-2022.12.0-py3-none-any.whl (969 kB)\n",
      "\u001b[2K     \u001b[90m━━━━━━━━━━━━━━━━━━━━━━━━━━━━━━━━━━━━━━\u001b[0m \u001b[32m970.0/970.0 kB\u001b[0m \u001b[31m39.0 MB/s\u001b[0m eta \u001b[36m0:00:00\u001b[0m\n",
      "\u001b[?25hCollecting xarray-dataclasses<2.0,>=1.6 (from decode)\n",
      "  Downloading xarray_dataclasses-1.7.0-py3-none-any.whl.metadata (10 kB)\n",
      "Collecting pyerfa>=2.0 (from astropy<6.0,>=5.2->decode)\n",
      "  Downloading pyerfa-2.0.0.3-cp38-cp38-macosx_10_9_x86_64.whl (342 kB)\n",
      "\u001b[2K     \u001b[90m━━━━━━━━━━━━━━━━━━━━━━━━━━━━━━━━━━━━━━\u001b[0m \u001b[32m342.1/342.1 kB\u001b[0m \u001b[31m37.8 MB/s\u001b[0m eta \u001b[36m0:00:00\u001b[0m\n",
      "\u001b[?25hRequirement already satisfied: PyYAML>=3.13 in /Users/gopalgoyal/opt/anaconda3/envs/free/lib/python3.8/site-packages (from astropy<6.0,>=5.2->decode) (6.0.1)\n",
      "Requirement already satisfied: packaging>=19.0 in /Users/gopalgoyal/opt/anaconda3/envs/free/lib/python3.8/site-packages (from astropy<6.0,>=5.2->decode) (23.2)\n",
      "Requirement already satisfied: contourpy>=1.0.1 in /Users/gopalgoyal/opt/anaconda3/envs/free/lib/python3.8/site-packages (from matplotlib<4.0,>=3.6->decode) (1.1.1)\n",
      "Requirement already satisfied: cycler>=0.10 in /Users/gopalgoyal/opt/anaconda3/envs/free/lib/python3.8/site-packages (from matplotlib<4.0,>=3.6->decode) (0.12.1)\n",
      "Requirement already satisfied: fonttools>=4.22.0 in /Users/gopalgoyal/opt/anaconda3/envs/free/lib/python3.8/site-packages (from matplotlib<4.0,>=3.6->decode) (4.47.0)\n",
      "Requirement already satisfied: kiwisolver>=1.0.1 in /Users/gopalgoyal/opt/anaconda3/envs/free/lib/python3.8/site-packages (from matplotlib<4.0,>=3.6->decode) (1.4.5)\n",
      "Requirement already satisfied: pillow>=6.2.0 in /Users/gopalgoyal/opt/anaconda3/envs/free/lib/python3.8/site-packages (from matplotlib<4.0,>=3.6->decode) (10.1.0)\n",
      "Requirement already satisfied: pyparsing>=2.3.1 in /Users/gopalgoyal/opt/anaconda3/envs/free/lib/python3.8/site-packages (from matplotlib<4.0,>=3.6->decode) (3.1.1)\n",
      "Requirement already satisfied: python-dateutil>=2.7 in /Users/gopalgoyal/opt/anaconda3/envs/free/lib/python3.8/site-packages (from matplotlib<4.0,>=3.6->decode) (2.8.2)\n",
      "Requirement already satisfied: importlib-resources>=3.2.0 in /Users/gopalgoyal/opt/anaconda3/envs/free/lib/python3.8/site-packages (from matplotlib<4.0,>=3.6->decode) (6.1.1)\n",
      "Collecting cftime (from netcdf4<2.0,>=1.6->decode)\n",
      "  Downloading cftime-1.6.3-cp38-cp38-macosx_10_9_x86_64.whl.metadata (8.6 kB)\n",
      "Requirement already satisfied: certifi in /Users/gopalgoyal/opt/anaconda3/envs/free/lib/python3.8/site-packages (from netcdf4<2.0,>=1.6->decode) (2023.11.17)\n",
      "Requirement already satisfied: joblib>=1.1.1 in /Users/gopalgoyal/opt/anaconda3/envs/free/lib/python3.8/site-packages (from scikit-learn<2.0,>=1.2->decode) (1.3.2)\n",
      "Requirement already satisfied: threadpoolctl>=2.0.0 in /Users/gopalgoyal/opt/anaconda3/envs/free/lib/python3.8/site-packages (from scikit-learn<2.0,>=1.2->decode) (3.2.0)\n",
      "Requirement already satisfied: pandas>=1.3 in /Users/gopalgoyal/opt/anaconda3/envs/free/lib/python3.8/site-packages (from xarray<2023.0,>=2022.3->decode) (1.5.3)\n",
      "Requirement already satisfied: typing-extensions<5.0,>=4.0 in /Users/gopalgoyal/opt/anaconda3/envs/free/lib/python3.8/site-packages (from xarray-dataclasses<2.0,>=1.6->decode) (4.8.0)\n",
      "Requirement already satisfied: zipp>=3.1.0 in /Users/gopalgoyal/opt/anaconda3/envs/free/lib/python3.8/site-packages (from importlib-resources>=3.2.0->matplotlib<4.0,>=3.6->decode) (3.17.0)\n",
      "Requirement already satisfied: pytz>=2020.1 in /Users/gopalgoyal/opt/anaconda3/envs/free/lib/python3.8/site-packages (from pandas>=1.3->xarray<2023.0,>=2022.3->decode) (2023.3.post1)\n",
      "Requirement already satisfied: six>=1.5 in /Users/gopalgoyal/opt/anaconda3/envs/free/lib/python3.8/site-packages (from python-dateutil>=2.7->matplotlib<4.0,>=3.6->decode) (1.16.0)\n",
      "Downloading decode-1.0.0-py3-none-any.whl (22 kB)\n",
      "Downloading morecopy-0.3.0-py3-none-any.whl (4.5 kB)\n",
      "Downloading netCDF4-1.6.5-cp38-cp38-macosx_10_9_x86_64.whl (7.5 MB)\n",
      "\u001b[2K   \u001b[90m━━━━━━━━━━━━━━━━━━━━━━━━━━━━━━━━━━━━━━━━\u001b[0m \u001b[32m7.5/7.5 MB\u001b[0m \u001b[31m2.4 MB/s\u001b[0m eta \u001b[36m0:00:00\u001b[0m00:01\u001b[0m00:01\u001b[0mm\n",
      "\u001b[?25hDownloading xarray_dataclasses-1.7.0-py3-none-any.whl (14 kB)\n",
      "Downloading cftime-1.6.3-cp38-cp38-macosx_10_9_x86_64.whl (248 kB)\n",
      "\u001b[2K   \u001b[90m━━━━━━━━━━━━━━━━━━━━━━━━━━━━━━━━━━━━━━━━\u001b[0m \u001b[32m248.3/248.3 kB\u001b[0m \u001b[31m18.3 MB/s\u001b[0m eta \u001b[36m0:00:00\u001b[0m\n",
      "\u001b[?25hInstalling collected packages: tomli, pyerfa, morecopy, cftime, netcdf4, astropy, xarray, xarray-dataclasses, decode\n",
      "Successfully installed astropy-5.2.2 cftime-1.6.3 decode-1.0.0 morecopy-0.3.0 netcdf4-1.6.5 pyerfa-2.0.0.3 tomli-2.0.1 xarray-2022.12.0 xarray-dataclasses-1.7.0\n"
     ]
    }
   ],
   "source": [
    "!pip install decode"
   ]
  },
  {
   "cell_type": "code",
   "execution_count": 1,
   "metadata": {},
   "outputs": [],
   "source": [
    "import imaplib \n",
    "import email \n",
    "from email.header import decode_header\n",
    " # Function to search emails from a specific sender \n",
    "def search_emails(imap_server, email_address, password, sender_contains, number_of_emails):\n",
    "    mail = imaplib.IMAP4_SSL(imap_server)\n",
    "    mail.login(email_address, password)\n",
    "    mail.select('inbox') # Select the Inbox \n",
    "    collected_emails = [] # Search for emails from the specific sender \n",
    "    status, message_numbers = mail.search(None, '(FROM \"{}\")'.format(sender_contains)) \n",
    "    # print(status,message_numbers)\n",
    "    if status == 'OK':\n",
    "        for num in reversed(message_numbers[0].split()): # Iterate in reverse to get the latest emails first \n",
    "            if len(collected_emails) >= number_of_emails:\n",
    "                break # Stop if we have collected enough emails \n",
    "            typ, data = mail.fetch(num, '(RFC822)') \n",
    "            # print(data)\n",
    "            for response_part in data: \n",
    "                if isinstance(response_part, tuple): \n",
    "                    msg = email.message_from_bytes(response_part[1]) \n",
    "                    email_subject = decode_header(msg[\"subject\"])[0][0] \n",
    "                    if isinstance(email_subject, bytes):\n",
    "                        email_subject = email_subject.decode() \n",
    "                    email_from = decode_header(msg[\"from\"])[0][0] \n",
    "                    if isinstance(email_from, bytes): \n",
    "                        email_from = email_from.decode() \n",
    "                    msg_=(msg.get_payload()[0]).__dict__['_payload']\n",
    "                    collected_emails.append((email_subject, email_from,msg_ ))\n",
    "                # print(msg)\n",
    "    return collected_emails # Replace with your details imap_server = 'imap-mail.outlook.com' email_address = 'your-email@outlook.com' password = 'yourpassword' sender_contains = 'specific sender' number_of_emails = 10 collected_emails = search_emails(imap_server, email_address, password, sender_contains, number_of_emails) # Example: Print the collected emails' subjects and senders for subject, sender, body in collected_emails: print(f\"Subject: {subject}, Sender: {sender}\") # You can further process the email body or extract key points as neede\n",
    "def split_text_into_chunks(text, max_words=3000, overlap_words=0):\n",
    "    words = text.split() \n",
    "    chunks = []\n",
    "    for i in range(0, len(words), max_words-overlap_words):\n",
    "        chunks.append(' '.join(words[i:i + max_words]))\n",
    "    return chunks"
   ]
  },
  {
   "cell_type": "code",
   "execution_count": 2,
   "metadata": {},
   "outputs": [],
   "source": [
    "m = search_emails(\"imap-mail.outlook.com\",\"gopal.goyal02@outlook.com\",\"Gopalgoyal@2002\",\"gopalgoyal612002@gmail.com\",3)"
   ]
  },
  {
   "cell_type": "code",
   "execution_count": 3,
   "metadata": {},
   "outputs": [
    {
     "data": {
      "text/plain": [
       "[('Python',\n",
       "  'gopal goyal <gopalgoyal612002@gmail.com>',\n",
       "  'This is the mail about python codes to learn\\r\\n'),\n",
       " ('Testing', 'gopal goyal <gopalgoyal612002@gmail.com>', 'Testing\\r\\n')]"
      ]
     },
     "execution_count": 3,
     "metadata": {},
     "output_type": "execute_result"
    }
   ],
   "source": [
    "m"
   ]
  },
  {
   "cell_type": "code",
   "execution_count": 8,
   "metadata": {},
   "outputs": [],
   "source": [
    "from mistralai.client import MistralClient\n",
    "from mistralai.models.chat_completion import ChatMessage\n",
    "def get_key_points(news_text):\n",
    "    api_key = \"HQSYSJjmRHE0dnj9mbnUizFNJLgaNxPG\"\n",
    "    model = \"mistral-tiny\"\n",
    "    client = MistralClient(api_key=api_key)\n",
    "\n",
    "    # Splitting the text into chunks\n",
    "    text_chunks = split_text_into_chunks(news_text)\n",
    "    combined_key_points = []\n",
    "\n",
    "    # Extracting key points for each chunk\n",
    "    for chunk in text_chunks:\n",
    "        chat_response = client.chat(\n",
    "            model=model,\n",
    "            messages=[ChatMessage(role=\"user\", content=f\"highlight the key points of the following {chunk} \")],\n",
    "        )\n",
    "        key_points = chat_response.choices[0].message.content.split('\\n')\n",
    "        combined_key_points.extend(key_points)\n",
    "\n",
    "    # Optional: Re-process combined points for coherence (This step may require a more complex approach)\n",
    "\n",
    "    return combined_key_points"
   ]
  },
  {
   "cell_type": "code",
   "execution_count": 9,
   "metadata": {},
   "outputs": [
    {
     "data": {
      "text/plain": [
       "[\"I'm unable to directly view the content of the email you've provided, as it's just mentioned the sender's email address. However, assuming you're asking for a summary of key points from an email written by Gopal Goyal, I'd be happy to help if you can provide a brief description or context of the email's content. Some general key points that could potentially be found in an email from Gopal Goyal might include:\",\n",
       " '',\n",
       " '1. Discussion of business or professional matters, such as project updates, client communications, or strategic planning.',\n",
       " '2. Scheduling of meetings or deadlines for completing tasks.',\n",
       " '3. Request for information or clarification on specific issues.',\n",
       " '4. Sharing of documents or files.',\n",
       " '5. Feedback or suggestions for improving processes or collaboration.',\n",
       " '6. Personal updates or anecdotes, depending on the nature of the professional relationship.',\n",
       " '',\n",
       " \"Again, this is just a general list based on what emails from a professional contact like Gopal Goyal might contain. The specific content of any given email will depend on the nature of the business or project they're involved in.\"]"
      ]
     },
     "execution_count": 9,
     "metadata": {},
     "output_type": "execute_result"
    }
   ],
   "source": [
    "get_key_points(m[0][1])"
   ]
  },
  {
   "cell_type": "code",
   "execution_count": 1,
   "metadata": {},
   "outputs": [
    {
     "name": "stdout",
     "output_type": "stream",
     "text": [
      "Collecting mistralai\n",
      "  Downloading mistralai-0.0.12-py3-none-any.whl.metadata (1.9 kB)\n",
      "Collecting httpx<0.26.0,>=0.25.2 (from mistralai)\n",
      "  Using cached httpx-0.25.2-py3-none-any.whl.metadata (6.9 kB)\n",
      "Collecting orjson<4.0.0,>=3.9.10 (from mistralai)\n",
      "  Downloading orjson-3.9.13-cp38-cp38-macosx_10_15_x86_64.macosx_11_0_arm64.macosx_10_15_universal2.whl.metadata (49 kB)\n",
      "\u001b[2K     \u001b[90m━━━━━━━━━━━━━━━━━━━━━━━━━━━━━━━━━━━━━━━━\u001b[0m \u001b[32m49.4/49.4 kB\u001b[0m \u001b[31m3.8 MB/s\u001b[0m eta \u001b[36m0:00:00\u001b[0m\n",
      "\u001b[?25hRequirement already satisfied: pydantic<3.0.0,>=2.5.2 in /Users/gopalgoyal/opt/anaconda3/envs/free/lib/python3.8/site-packages (from mistralai) (2.5.3)\n",
      "Requirement already satisfied: anyio in /Users/gopalgoyal/opt/anaconda3/envs/free/lib/python3.8/site-packages (from httpx<0.26.0,>=0.25.2->mistralai) (4.1.0)\n",
      "Requirement already satisfied: certifi in /Users/gopalgoyal/opt/anaconda3/envs/free/lib/python3.8/site-packages (from httpx<0.26.0,>=0.25.2->mistralai) (2023.11.17)\n",
      "Collecting httpcore==1.* (from httpx<0.26.0,>=0.25.2->mistralai)\n",
      "  Using cached httpcore-1.0.2-py3-none-any.whl.metadata (20 kB)\n",
      "Requirement already satisfied: idna in /Users/gopalgoyal/opt/anaconda3/envs/free/lib/python3.8/site-packages (from httpx<0.26.0,>=0.25.2->mistralai) (3.6)\n",
      "Requirement already satisfied: sniffio in /Users/gopalgoyal/opt/anaconda3/envs/free/lib/python3.8/site-packages (from httpx<0.26.0,>=0.25.2->mistralai) (1.3.0)\n",
      "Requirement already satisfied: h11<0.15,>=0.13 in /Users/gopalgoyal/opt/anaconda3/envs/free/lib/python3.8/site-packages (from httpcore==1.*->httpx<0.26.0,>=0.25.2->mistralai) (0.14.0)\n",
      "Requirement already satisfied: annotated-types>=0.4.0 in /Users/gopalgoyal/opt/anaconda3/envs/free/lib/python3.8/site-packages (from pydantic<3.0.0,>=2.5.2->mistralai) (0.6.0)\n",
      "Requirement already satisfied: pydantic-core==2.14.6 in /Users/gopalgoyal/opt/anaconda3/envs/free/lib/python3.8/site-packages (from pydantic<3.0.0,>=2.5.2->mistralai) (2.14.6)\n",
      "Requirement already satisfied: typing-extensions>=4.6.1 in /Users/gopalgoyal/opt/anaconda3/envs/free/lib/python3.8/site-packages (from pydantic<3.0.0,>=2.5.2->mistralai) (4.8.0)\n",
      "Requirement already satisfied: exceptiongroup>=1.0.2 in /Users/gopalgoyal/opt/anaconda3/envs/free/lib/python3.8/site-packages (from anyio->httpx<0.26.0,>=0.25.2->mistralai) (1.2.0)\n",
      "Downloading mistralai-0.0.12-py3-none-any.whl (14 kB)\n",
      "Using cached httpx-0.25.2-py3-none-any.whl (74 kB)\n",
      "Using cached httpcore-1.0.2-py3-none-any.whl (76 kB)\n",
      "Downloading orjson-3.9.13-cp38-cp38-macosx_10_15_x86_64.macosx_11_0_arm64.macosx_10_15_universal2.whl (249 kB)\n",
      "\u001b[2K   \u001b[90m━━━━━━━━━━━━━━━━━━━━━━━━━━━━━━━━━━━━━━━━\u001b[0m \u001b[32m249.0/249.0 kB\u001b[0m \u001b[31m7.1 MB/s\u001b[0m eta \u001b[36m0:00:00\u001b[0m\n",
      "\u001b[?25hInstalling collected packages: orjson, httpcore, httpx, mistralai\n",
      "  Attempting uninstall: httpcore\n",
      "    Found existing installation: httpcore 0.17.3\n",
      "    Uninstalling httpcore-0.17.3:\n",
      "      Successfully uninstalled httpcore-0.17.3\n",
      "  Attempting uninstall: httpx\n",
      "    Found existing installation: httpx 0.24.1\n",
      "    Uninstalling httpx-0.24.1:\n",
      "      Successfully uninstalled httpx-0.24.1\n",
      "\u001b[31mERROR: pip's dependency resolver does not currently take into account all the packages that are installed. This behaviour is the source of the following dependency conflicts.\n",
      "httpx-oauth 0.13.0 requires httpx<0.25,>=0.18, but you have httpx 0.25.2 which is incompatible.\u001b[0m\u001b[31m\n",
      "\u001b[0mSuccessfully installed httpcore-1.0.2 httpx-0.25.2 mistralai-0.0.12 orjson-3.9.13\n"
     ]
    }
   ],
   "source": [
    "!pip install mistralai"
   ]
  },
  {
   "cell_type": "code",
   "execution_count": 5,
   "metadata": {},
   "outputs": [
    {
     "name": "stdout",
     "output_type": "stream",
     "text": [
      "Requirement already satisfied: pytz in /Users/gopalgoyal/opt/anaconda3/envs/free/lib/python3.8/site-packages (2023.3.post1)\n"
     ]
    }
   ],
   "source": [
    "!pip install pytz"
   ]
  },
  {
   "cell_type": "code",
   "execution_count": null,
   "metadata": {},
   "outputs": [],
   "source": [
    "def lambda_handler(event, context):\n",
    "\n",
    "\n",
    "# Updated API endpoint and authorization token\n",
    "url = \"https://app.nuovopay.com/dm/api/v1/devices.json/?\"page=\"\n",
    "headers = {\n",
    "'Authorization': 'Token SECRET_KEy'\n",
    "}\n",
    "response = requests.get(url, headers=headers)\n",
    "\n",
    "\n",
    "data = response.json()\n",
    "\n",
    "\n",
    "# Write JSON data to S3 bucket\n",
    "s3 = boto3.resource('s3',\n",
    "region_name='us-east-1',\n",
    "aws_access_key_id=access_key,\n",
    "aws_secret_access_key=secret_key)\n",
    "s3.Object(bucket_name, 'data.json').put(Body=json.dumps(data))\n",
    "\n",
    "\n",
    "return {\n",
    "'statusCode': 200,\n",
    "'body': json.dumps('success')\n",
    "}"
   ]
  },
  {
   "cell_type": "code",
   "execution_count": 10,
   "metadata": {},
   "outputs": [],
   "source": [
    "import imaplib\n",
    "import pprint\n",
    "\n",
    "\n",
    "imap_host = 'imap.mail.com'\n",
    "imap_user = 'username@email.com'\n",
    "imap_pass = 'password'\n",
    "\n",
    "\n",
    "# connecting to host via SSL\n",
    "imap = imaplib.IMAP4_SSL(\"imap-mail.outlook.com\")\n"
   ]
  },
  {
   "cell_type": "code",
   "execution_count": 11,
   "metadata": {},
   "outputs": [
    {
     "name": "stdout",
     "output_type": "stream",
     "text": [
      "993\n",
      "Connected to server.\n",
      "b'* OK The Microsoft Exchange IMAP4 service is ready. [UABOADMAUABSADAAMQBDAEEAMAAwADAAMQAuAEkATgBEAFAAUgBEADAAMQAuAFAAUgBPAEQALgBPAFUAVABMAE8ATwBLAC4AQwBPAE0A]'\n"
     ]
    }
   ],
   "source": [
    "print(imap.port)\n",
    "print(\"Connected to server.\")\n",
    "print(imap.welcome)\n",
    "\n"
   ]
  },
  {
   "cell_type": "code",
   "execution_count": 12,
   "metadata": {},
   "outputs": [
    {
     "ename": "error",
     "evalue": "b'LOGIN failed. Account is blocked. Login to your account via a web browser to verify your identity.'",
     "output_type": "error",
     "traceback": [
      "\u001b[0;31m---------------------------------------------------------------------------\u001b[0m",
      "\u001b[0;31merror\u001b[0m                                     Traceback (most recent call last)",
      "Cell \u001b[0;32mIn[12], line 2\u001b[0m\n\u001b[1;32m      1\u001b[0m \u001b[38;5;66;03m# logging in to servers\u001b[39;00m\n\u001b[0;32m----> 2\u001b[0m \u001b[43mimap\u001b[49m\u001b[38;5;241;43m.\u001b[39;49m\u001b[43mlogin\u001b[49m\u001b[43m(\u001b[49m\u001b[38;5;124;43m\"\u001b[39;49m\u001b[38;5;124;43mshibin.xie@outlook.com\u001b[39;49m\u001b[38;5;124;43m\"\u001b[39;49m\u001b[43m,\u001b[49m\u001b[43m \u001b[49m\u001b[38;5;124;43m\"\u001b[39;49m\u001b[38;5;124;43mTsla$7012\u001b[39;49m\u001b[38;5;124;43m\"\u001b[39;49m\u001b[43m)\u001b[49m\n\u001b[1;32m      3\u001b[0m \u001b[38;5;28mprint\u001b[39m(\u001b[38;5;124m\"\u001b[39m\u001b[38;5;124mLogin complete.\u001b[39m\u001b[38;5;124m\"\u001b[39m)\n\u001b[1;32m      5\u001b[0m \u001b[38;5;66;03m# Selecting the inbox of the logged in account\u001b[39;00m\n",
      "File \u001b[0;32m~/opt/anaconda3/envs/free/lib/python3.8/imaplib.py:603\u001b[0m, in \u001b[0;36mIMAP4.login\u001b[0;34m(self, user, password)\u001b[0m\n\u001b[1;32m    601\u001b[0m typ, dat \u001b[38;5;241m=\u001b[39m \u001b[38;5;28mself\u001b[39m\u001b[38;5;241m.\u001b[39m_simple_command(\u001b[38;5;124m'\u001b[39m\u001b[38;5;124mLOGIN\u001b[39m\u001b[38;5;124m'\u001b[39m, user, \u001b[38;5;28mself\u001b[39m\u001b[38;5;241m.\u001b[39m_quote(password))\n\u001b[1;32m    602\u001b[0m \u001b[38;5;28;01mif\u001b[39;00m typ \u001b[38;5;241m!=\u001b[39m \u001b[38;5;124m'\u001b[39m\u001b[38;5;124mOK\u001b[39m\u001b[38;5;124m'\u001b[39m:\n\u001b[0;32m--> 603\u001b[0m     \u001b[38;5;28;01mraise\u001b[39;00m \u001b[38;5;28mself\u001b[39m\u001b[38;5;241m.\u001b[39merror(dat[\u001b[38;5;241m-\u001b[39m\u001b[38;5;241m1\u001b[39m])\n\u001b[1;32m    604\u001b[0m \u001b[38;5;28mself\u001b[39m\u001b[38;5;241m.\u001b[39mstate \u001b[38;5;241m=\u001b[39m \u001b[38;5;124m'\u001b[39m\u001b[38;5;124mAUTH\u001b[39m\u001b[38;5;124m'\u001b[39m\n\u001b[1;32m    605\u001b[0m \u001b[38;5;28;01mreturn\u001b[39;00m typ, dat\n",
      "\u001b[0;31merror\u001b[0m: b'LOGIN failed. Account is blocked. Login to your account via a web browser to verify your identity.'"
     ]
    }
   ],
   "source": [
    "# logging in to servers\n",
    "imap.login(\"shibin.xie@outlook.com\", \"Tsla$7012\")\n",
    "print(\"Login complete.\")\n",
    "\n",
    "# Selecting the inbox of the logged in account\n",
    "imap.select('Inbox')"
   ]
  },
  {
   "cell_type": "code",
   "execution_count": null,
   "metadata": {},
   "outputs": [],
   "source": []
  }
 ],
 "metadata": {
  "kernelspec": {
   "display_name": "free",
   "language": "python",
   "name": "python3"
  },
  "language_info": {
   "codemirror_mode": {
    "name": "ipython",
    "version": 3
   },
   "file_extension": ".py",
   "mimetype": "text/x-python",
   "name": "python",
   "nbconvert_exporter": "python",
   "pygments_lexer": "ipython3",
   "version": "3.8.18"
  }
 },
 "nbformat": 4,
 "nbformat_minor": 2
}
